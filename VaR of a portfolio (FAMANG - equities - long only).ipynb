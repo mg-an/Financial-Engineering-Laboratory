{
 "cells": [
  {
   "cell_type": "code",
   "execution_count": 1,
   "metadata": {},
   "outputs": [],
   "source": [
    "# DISCLAIMER : this is just a sample code for VaR analysis \n",
    "# and not any sort of investment advice advocated either by me or the firm that I work for\n",
    "\n",
    "import pandas as pd\n",
    "from pandas_datareader import data as pdr\n",
    "import yfinance as yf\n",
    "import numpy as np\n",
    "import datetime as dt\n",
    "from scipy.stats import norm\n",
    "import matplotlib.mlab as mlab\n",
    "import matplotlib.pyplot as plt\n",
    "import scipy.stats as stat\n",
    "from IPython.core.pylabtools import figsize"
   ]
  },
  {
   "cell_type": "code",
   "execution_count": null,
   "metadata": {},
   "outputs": [],
   "source": [
    "tickers = ['AAPL','FB', 'GOOG', 'AMZN', 'NFLX', 'MSFT']\n",
    "weights = np.array([.16, .17, .16, .17, .17,.17])\n",
    "initial_investment = 1000000 # 1 mn USD\n",
    "data = pdr.get_data_yahoo(tickers, start=\"2017-01-01\", end=dt.date.today())['Close']\n",
    "returns = data.pct_change()\n",
    "returns.tail()"
   ]
  },
  {
   "cell_type": "code",
   "execution_count": null,
   "metadata": {},
   "outputs": [],
   "source": [
    "cov_matrix = returns.cov()\n",
    "cov_matrix"
   ]
  },
  {
   "cell_type": "code",
   "execution_count": null,
   "metadata": {},
   "outputs": [],
   "source": [
    "avg_rets = returns.mean() #mean per equity\n",
    "port_mean = avg_rets.dot(weights) # dot product to find mean of portfolio\n",
    "port_stdev = np.sqrt(weights.T.dot(cov_matrix).dot(weights))\n",
    "print (port_stdev)\n",
    "mean_investment = (1 + port_mean) * initial_investment\n",
    "stdev_investment = initial_investment * port_stdev"
   ]
  },
  {
   "cell_type": "code",
   "execution_count": 14,
   "metadata": {},
   "outputs": [
    {
     "data": {
      "text/plain": [
       "26296.891570690903"
      ]
     },
     "execution_count": 14,
     "metadata": {},
     "output_type": "execute_result"
    }
   ],
   "source": [
    "cutoff = norm.ppf(0.05, mean_investment, stdev_investment) #assuming confidence level = 95%\n",
    "# ppf is the inverse of CDF to map x for given f(x); here Z-value which we refer from log table book\n",
    "var = initial_investment - cutoff\n",
    "var"
   ]
  },
  {
   "cell_type": "code",
   "execution_count": null,
   "metadata": {},
   "outputs": [],
   "source": [
    "var_array = []\n",
    "days = [20] #since it is 0.05 VaR\n",
    "for y in days:\n",
    "    var_array = []\n",
    "    for x in range(y + 1):\n",
    "        var_array.append(np.round(var * np.sqrt(x + 1), 5))\n",
    "        print(str(x) + \" day VaR >> @ Confidence level 95% >> \" + str(np.round(var * np.sqrt(x),2)))\n",
    "\n",
    "    figsize(20, 7)\n",
    "    plt.xlabel(\"Day\")\n",
    "    plt.ylabel(\"Max portfolio loss (USD)\")\n",
    "    plt.title(\"Max portfolio loss (VaR) over\" + str(y) + \"-day period\")\n",
    "    plt.show(plt.plot(var_array))"
   ]
  },
  {
   "cell_type": "code",
   "execution_count": null,
   "metadata": {},
   "outputs": [],
   "source": [
    "for i in tickers:\n",
    "    returns[i].hist(bins = 500) # to capture ALL events possible and no chance for any left tail events ;)\n",
    "    x = np.linspace(port_mean - 4 * port_stdev, port_mean + 4 * port_stdev, 1000) # the normal 3 SD's apart for fat-tailedness\n",
    "    figsize(20, 7)\n",
    "    plt.plot(x, norm.pdf(x, port_mean, port_stdev), \"r\")\n",
    "    plt.title(i + \" returns vs. normal distribution\")\n",
    "    plt.show()"
   ]
  }
 ],
 "metadata": {
  "kernelspec": {
   "display_name": "Python 3",
   "language": "python",
   "name": "python3"
  },
  "language_info": {
   "codemirror_mode": {
    "name": "ipython",
    "version": 3
   },
   "file_extension": ".py",
   "mimetype": "text/x-python",
   "name": "python",
   "nbconvert_exporter": "python",
   "pygments_lexer": "ipython3",
   "version": "3.7.3"
  }
 },
 "nbformat": 4,
 "nbformat_minor": 2
}
