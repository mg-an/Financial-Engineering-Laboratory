{
 "cells": [
  {
   "cell_type": "code",
   "execution_count": null,
   "metadata": {},
   "outputs": [],
   "source": [
    "import numpy as np\n",
    "import scipy.stats as stat"
   ]
  },
  {
   "cell_type": "code",
   "execution_count": null,
   "metadata": {},
   "outputs": [],
   "source": [
    "def euro_vanilla_call(S, K, T, r, sigma): \n",
    "    #S: spot price\n",
    "    #K: strike price\n",
    "    #T: time to maturity\n",
    "    #r: interest rate\n",
    "    #sigma: volatility of underlying asset    \n",
    "    d1 = (np.log(S / K) + (r + 0.5 * sigma ** 2) * T) / (sigma * np.sqrt(T))\n",
    "    d2 = (np.log(S / K) + (r - 0.5 * sigma ** 2) * T) / (sigma * np.sqrt(T))\n",
    "    # d1 and d2 are the solutions of the following equation\n",
    "    call = (S * stat.norm.cdf(d1, 0.0, 1.0) - K * np.exp(-r * T) * stat.norm.cdf(d2, 0.0, 1.0))\n",
    "    #hyperparameters for stat.norm.cdf ie cumulative distribution function\n",
    "    #-> integration of the probability distribution curve for x: {-infinity, d1] and x: {-infinity, d2]\n",
    "    #hparam1 -> X the independent variable here d1 or d2\n",
    "    #hapram2 -> mean\n",
    "    #hparam3 -> standard deviation\n",
    "    return call"
   ]
  },
  {
   "cell_type": "code",
   "execution_count": null,
   "metadata": {},
   "outputs": [],
   "source": [
    "euro_vanilla_call(2140, 2140, 1/12, 0.01, 0.25)"
   ]
  },
  {
   "cell_type": "code",
   "execution_count": null,
   "metadata": {},
   "outputs": [],
   "source": [
    "def euro_vanilla_put(S, K, T, r, sigma): \n",
    "    d1 = (np.log(S / K) + (r + 0.5 * sigma ** 2) * T) / (sigma * np.sqrt(T))\n",
    "    d2 = (np.log(S / K) + (r - 0.5 * sigma ** 2) * T) / (sigma * np.sqrt(T))\n",
    "    put = (K * np.exp(-r * T) * stat.norm.cdf(-d2, 0.0, 1.0) - S * stat.norm.cdf(-d1, 0.0, 1.0))\n",
    "    return put"
   ]
  },
  {
   "cell_type": "code",
   "execution_count": null,
   "metadata": {},
   "outputs": [],
   "source": [
    "euro_vanilla_put(50, 100, 1, 0.05, 0.25)"
   ]
  }
 ],
 "metadata": {
  "kernelspec": {
   "display_name": "Python 3",
   "language": "python",
   "name": "python3"
  },
  "language_info": {
   "codemirror_mode": {
    "name": "ipython",
    "version": 3
   },
   "file_extension": ".py",
   "mimetype": "text/x-python",
   "name": "python",
   "nbconvert_exporter": "python",
   "pygments_lexer": "ipython3",
   "version": "3.7.3"
  }
 },
 "nbformat": 4,
 "nbformat_minor": 2
}
